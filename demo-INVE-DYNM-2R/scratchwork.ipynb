{
 "cells": [
  {
   "cell_type": "markdown",
   "metadata": {},
   "source": [
    "Scratchwork for robot simulation with forward dynamics"
   ]
  },
  {
   "cell_type": "code",
   "execution_count": 16,
   "metadata": {},
   "outputs": [],
   "source": [
    "import numpy as np "
   ]
  },
  {
   "cell_type": "code",
   "execution_count": 17,
   "metadata": {},
   "outputs": [],
   "source": [
    "def mcgeval(th,th_d):\n",
    "\n",
    "    th = np.array(th)\n",
    "    L1 = 1.0  # Length of link 1\n",
    "    L2 = 1.0  # Length of link 2\n",
    "\n",
    "    # The mass matrix\n",
    "    M = \n",
    "\n",
    "    # The Coriolis matrix of our 2r robot is 2 by 1\n",
    "    C = \n",
    "\n",
    "    # The gravity matrix\n",
    "    G = \n",
    "\n",
    "    return M, C, G"
   ]
  },
  {
   "cell_type": "code",
   "execution_count": 18,
   "metadata": {},
   "outputs": [
    {
     "name": "stdout",
     "output_type": "stream",
     "text": [
      "The shape of th is:  (2, 1)\n",
      "The shape of th_d is:  (2, 1)\n"
     ]
    },
    {
     "ename": "ValueError",
     "evalue": "setting an array element with a sequence. The requested array has an inhomogeneous shape after 2 dimensions. The detected shape was (2, 2) + inhomogeneous part.",
     "output_type": "error",
     "traceback": [
      "\u001b[0;31m---------------------------------------------------------------------------\u001b[0m",
      "\u001b[0;31mValueError\u001b[0m                                Traceback (most recent call last)",
      "\u001b[1;32m/Users/brianlesko/Documents/Robotics/demo-INVE-DYNM-2R/scratchwork.ipynb Cell 4\u001b[0m line \u001b[0;36m8\n\u001b[1;32m      <a href='vscode-notebook-cell:/Users/brianlesko/Documents/Robotics/demo-INVE-DYNM-2R/scratchwork.ipynb#W3sZmlsZQ%3D%3D?line=4'>5</a>\u001b[0m \u001b[39mprint\u001b[39m(\u001b[39m'\u001b[39m\u001b[39mThe shape of th is: \u001b[39m\u001b[39m'\u001b[39m, th\u001b[39m.\u001b[39mshape)\n\u001b[1;32m      <a href='vscode-notebook-cell:/Users/brianlesko/Documents/Robotics/demo-INVE-DYNM-2R/scratchwork.ipynb#W3sZmlsZQ%3D%3D?line=5'>6</a>\u001b[0m \u001b[39mprint\u001b[39m(\u001b[39m'\u001b[39m\u001b[39mThe shape of th_d is: \u001b[39m\u001b[39m'\u001b[39m, th_d\u001b[39m.\u001b[39mshape)\n\u001b[0;32m----> <a href='vscode-notebook-cell:/Users/brianlesko/Documents/Robotics/demo-INVE-DYNM-2R/scratchwork.ipynb#W3sZmlsZQ%3D%3D?line=7'>8</a>\u001b[0m M, C, G \u001b[39m=\u001b[39m mcgeval(th, th_d)\n\u001b[1;32m     <a href='vscode-notebook-cell:/Users/brianlesko/Documents/Robotics/demo-INVE-DYNM-2R/scratchwork.ipynb#W3sZmlsZQ%3D%3D?line=9'>10</a>\u001b[0m \u001b[39mprint\u001b[39m(\u001b[39m'\u001b[39m\u001b[39mThe shape of M is: \u001b[39m\u001b[39m'\u001b[39m, M\u001b[39m.\u001b[39mshape)\n\u001b[1;32m     <a href='vscode-notebook-cell:/Users/brianlesko/Documents/Robotics/demo-INVE-DYNM-2R/scratchwork.ipynb#W3sZmlsZQ%3D%3D?line=10'>11</a>\u001b[0m \u001b[39mprint\u001b[39m(\u001b[39m'\u001b[39m\u001b[39mThe shape of C is: \u001b[39m\u001b[39m'\u001b[39m, C\u001b[39m.\u001b[39mshape)\n",
      "\u001b[1;32m/Users/brianlesko/Documents/Robotics/demo-INVE-DYNM-2R/scratchwork.ipynb Cell 4\u001b[0m line \u001b[0;36m8\n\u001b[1;32m      <a href='vscode-notebook-cell:/Users/brianlesko/Documents/Robotics/demo-INVE-DYNM-2R/scratchwork.ipynb#W3sZmlsZQ%3D%3D?line=4'>5</a>\u001b[0m L2 \u001b[39m=\u001b[39m \u001b[39m1.0\u001b[39m  \u001b[39m# Length of link 2\u001b[39;00m\n\u001b[1;32m      <a href='vscode-notebook-cell:/Users/brianlesko/Documents/Robotics/demo-INVE-DYNM-2R/scratchwork.ipynb#W3sZmlsZQ%3D%3D?line=6'>7</a>\u001b[0m \u001b[39m# The mass matrix\u001b[39;00m\n\u001b[0;32m----> <a href='vscode-notebook-cell:/Users/brianlesko/Documents/Robotics/demo-INVE-DYNM-2R/scratchwork.ipynb#W3sZmlsZQ%3D%3D?line=7'>8</a>\u001b[0m M \u001b[39m=\u001b[39m np\u001b[39m.\u001b[39;49marray([[L1\u001b[39m*\u001b[39;49m\u001b[39m*\u001b[39;49m\u001b[39m2\u001b[39;49m \u001b[39m+\u001b[39;49m L2\u001b[39m*\u001b[39;49m\u001b[39m*\u001b[39;49m\u001b[39m2\u001b[39;49m \u001b[39m+\u001b[39;49m \u001b[39m2\u001b[39;49m\u001b[39m*\u001b[39;49mL1\u001b[39m*\u001b[39;49mL2\u001b[39m*\u001b[39;49mnp\u001b[39m.\u001b[39;49mcos(th[\u001b[39m1\u001b[39;49m]), L2\u001b[39m*\u001b[39;49m\u001b[39m*\u001b[39;49m\u001b[39m2\u001b[39;49m \u001b[39m+\u001b[39;49m L1\u001b[39m*\u001b[39;49mL2\u001b[39m*\u001b[39;49mnp\u001b[39m.\u001b[39;49mcos(th[\u001b[39m1\u001b[39;49m])], [L2\u001b[39m*\u001b[39;49m\u001b[39m*\u001b[39;49m\u001b[39m2\u001b[39;49m \u001b[39m+\u001b[39;49m L1\u001b[39m*\u001b[39;49mL2\u001b[39m*\u001b[39;49mnp\u001b[39m.\u001b[39;49mcos(th[\u001b[39m1\u001b[39;49m]), L2\u001b[39m*\u001b[39;49m\u001b[39m*\u001b[39;49m\u001b[39m2\u001b[39;49m]])\n\u001b[1;32m     <a href='vscode-notebook-cell:/Users/brianlesko/Documents/Robotics/demo-INVE-DYNM-2R/scratchwork.ipynb#W3sZmlsZQ%3D%3D?line=9'>10</a>\u001b[0m \u001b[39m# The Coriolis matrix\u001b[39;00m\n\u001b[1;32m     <a href='vscode-notebook-cell:/Users/brianlesko/Documents/Robotics/demo-INVE-DYNM-2R/scratchwork.ipynb#W3sZmlsZQ%3D%3D?line=10'>11</a>\u001b[0m C \u001b[39m=\u001b[39m np\u001b[39m.\u001b[39marray([[\u001b[39m-\u001b[39mL1\u001b[39m*\u001b[39mL2\u001b[39m*\u001b[39m(\u001b[39m2\u001b[39m\u001b[39m*\u001b[39mth_d[\u001b[39m0\u001b[39m]\u001b[39m*\u001b[39mth_d[\u001b[39m1\u001b[39m] \u001b[39m+\u001b[39m th_d[\u001b[39m1\u001b[39m]\u001b[39m*\u001b[39m\u001b[39m*\u001b[39m\u001b[39m2\u001b[39m)\u001b[39m*\u001b[39mnp\u001b[39m.\u001b[39msin(th[\u001b[39m1\u001b[39m]), \u001b[39m-\u001b[39mL1\u001b[39m*\u001b[39mL2\u001b[39m*\u001b[39mth_d[\u001b[39m0\u001b[39m]\u001b[39m*\u001b[39mnp\u001b[39m.\u001b[39msin(th[\u001b[39m1\u001b[39m])], [L1\u001b[39m*\u001b[39mL2\u001b[39m*\u001b[39mth_d[\u001b[39m0\u001b[39m]\u001b[39m*\u001b[39mnp\u001b[39m.\u001b[39msin(th[\u001b[39m1\u001b[39m]), \u001b[39m0\u001b[39m]])\n",
      "\u001b[0;31mValueError\u001b[0m: setting an array element with a sequence. The requested array has an inhomogeneous shape after 2 dimensions. The detected shape was (2, 2) + inhomogeneous part."
     ]
    }
   ],
   "source": [
    "# vectors are vertically stacked unless otherwise specified\n",
    "th = np.array([[np.pi/4], [np.pi/4]])  # joint angles\n",
    "th_d = np.array([[1], [1]])  # joint velocities\n",
    "T = np.array([[0],[0]]) # joint torques\n",
    "print('The shape of th is: ', th.shape)\n",
    "print('The shape of th_d is: ', th_d.shape)\n",
    "\n",
    "M, C, G = mcgeval(th, th_d)\n",
    "\n",
    "print('The shape of M is: ', M.shape)\n",
    "print('The shape of C is: ', C.shape)\n",
    "print('The shape of G is: ', G.shape)"
   ]
  },
  {
   "cell_type": "code",
   "execution_count": 12,
   "metadata": {},
   "outputs": [
    {
     "name": "stdout",
     "output_type": "stream",
     "text": [
      "The shape of th_dd is:  (2, 2)\n"
     ]
    },
    {
     "ename": "ValueError",
     "evalue": "setting an array element with a sequence. The requested array has an inhomogeneous shape after 2 dimensions. The detected shape was (2, 2) + inhomogeneous part.",
     "output_type": "error",
     "traceback": [
      "\u001b[0;31m---------------------------------------------------------------------------\u001b[0m",
      "\u001b[0;31mValueError\u001b[0m                                Traceback (most recent call last)",
      "\u001b[1;32m/Users/brianlesko/Documents/Robotics/demo-INVE-DYNM-2R/scratchwork.ipynb Cell 5\u001b[0m line \u001b[0;36m3\n\u001b[1;32m     <a href='vscode-notebook-cell:/Users/brianlesko/Documents/Robotics/demo-INVE-DYNM-2R/scratchwork.ipynb#W4sZmlsZQ%3D%3D?line=27'>28</a>\u001b[0m         th_d \u001b[39m=\u001b[39m th_d \u001b[39m+\u001b[39m lr \u001b[39m*\u001b[39m th_dd\n\u001b[1;32m     <a href='vscode-notebook-cell:/Users/brianlesko/Documents/Robotics/demo-INVE-DYNM-2R/scratchwork.ipynb#W4sZmlsZQ%3D%3D?line=29'>30</a>\u001b[0m     \u001b[39mreturn\u001b[39;00m hist\n\u001b[0;32m---> <a href='vscode-notebook-cell:/Users/brianlesko/Documents/Robotics/demo-INVE-DYNM-2R/scratchwork.ipynb#W4sZmlsZQ%3D%3D?line=32'>33</a>\u001b[0m run(mcgeval,th,th_d,T,lr\u001b[39m=\u001b[39;49m\u001b[39m.01\u001b[39;49m,n_iter\u001b[39m=\u001b[39;49m\u001b[39m1000\u001b[39;49m)\n",
      "\u001b[1;32m/Users/brianlesko/Documents/Robotics/demo-INVE-DYNM-2R/scratchwork.ipynb Cell 5\u001b[0m line \u001b[0;36m1\n\u001b[1;32m     <a href='vscode-notebook-cell:/Users/brianlesko/Documents/Robotics/demo-INVE-DYNM-2R/scratchwork.ipynb#W4sZmlsZQ%3D%3D?line=9'>10</a>\u001b[0m \u001b[39m# Loop over iterations\u001b[39;00m\n\u001b[1;32m     <a href='vscode-notebook-cell:/Users/brianlesko/Documents/Robotics/demo-INVE-DYNM-2R/scratchwork.ipynb#W4sZmlsZQ%3D%3D?line=10'>11</a>\u001b[0m \u001b[39mfor\u001b[39;00m i \u001b[39min\u001b[39;00m \u001b[39mrange\u001b[39m(n_iter):\n\u001b[1;32m     <a href='vscode-notebook-cell:/Users/brianlesko/Documents/Robotics/demo-INVE-DYNM-2R/scratchwork.ipynb#W4sZmlsZQ%3D%3D?line=11'>12</a>\u001b[0m \n\u001b[1;32m     <a href='vscode-notebook-cell:/Users/brianlesko/Documents/Robotics/demo-INVE-DYNM-2R/scratchwork.ipynb#W4sZmlsZQ%3D%3D?line=12'>13</a>\u001b[0m     \u001b[39m# Evaluate the equations of motion\u001b[39;00m\n\u001b[0;32m---> <a href='vscode-notebook-cell:/Users/brianlesko/Documents/Robotics/demo-INVE-DYNM-2R/scratchwork.ipynb#W4sZmlsZQ%3D%3D?line=13'>14</a>\u001b[0m     M, C, G \u001b[39m=\u001b[39m Jeval(th,th_d)\n\u001b[1;32m     <a href='vscode-notebook-cell:/Users/brianlesko/Documents/Robotics/demo-INVE-DYNM-2R/scratchwork.ipynb#W4sZmlsZQ%3D%3D?line=15'>16</a>\u001b[0m     \u001b[39m# Solve for th_dd using the equations of motion\u001b[39;00m\n\u001b[1;32m     <a href='vscode-notebook-cell:/Users/brianlesko/Documents/Robotics/demo-INVE-DYNM-2R/scratchwork.ipynb#W4sZmlsZQ%3D%3D?line=16'>17</a>\u001b[0m     th_dd \u001b[39m=\u001b[39m (T \u001b[39m-\u001b[39m C \u001b[39m-\u001b[39m G) \u001b[39m/\u001b[39m M\n",
      "\u001b[1;32m/Users/brianlesko/Documents/Robotics/demo-INVE-DYNM-2R/scratchwork.ipynb Cell 5\u001b[0m line \u001b[0;36m1\n\u001b[1;32m      <a href='vscode-notebook-cell:/Users/brianlesko/Documents/Robotics/demo-INVE-DYNM-2R/scratchwork.ipynb#W4sZmlsZQ%3D%3D?line=7'>8</a>\u001b[0m M \u001b[39m=\u001b[39m np\u001b[39m.\u001b[39marray([[L1\u001b[39m*\u001b[39m\u001b[39m*\u001b[39m\u001b[39m2\u001b[39m \u001b[39m+\u001b[39m L2\u001b[39m*\u001b[39m\u001b[39m*\u001b[39m\u001b[39m2\u001b[39m \u001b[39m+\u001b[39m \u001b[39m2\u001b[39m\u001b[39m*\u001b[39mL1\u001b[39m*\u001b[39mL2\u001b[39m*\u001b[39mnp\u001b[39m.\u001b[39mcos(th[\u001b[39m1\u001b[39m]), L2\u001b[39m*\u001b[39m\u001b[39m*\u001b[39m\u001b[39m2\u001b[39m \u001b[39m+\u001b[39m L1\u001b[39m*\u001b[39mL2\u001b[39m*\u001b[39mnp\u001b[39m.\u001b[39mcos(th[\u001b[39m1\u001b[39m])], [L2\u001b[39m*\u001b[39m\u001b[39m*\u001b[39m\u001b[39m2\u001b[39m \u001b[39m+\u001b[39m L1\u001b[39m*\u001b[39mL2\u001b[39m*\u001b[39mnp\u001b[39m.\u001b[39mcos(th[\u001b[39m1\u001b[39m]), L2\u001b[39m*\u001b[39m\u001b[39m*\u001b[39m\u001b[39m2\u001b[39m]])\n\u001b[1;32m     <a href='vscode-notebook-cell:/Users/brianlesko/Documents/Robotics/demo-INVE-DYNM-2R/scratchwork.ipynb#W4sZmlsZQ%3D%3D?line=9'>10</a>\u001b[0m \u001b[39m# The Coriolis matrix\u001b[39;00m\n\u001b[0;32m---> <a href='vscode-notebook-cell:/Users/brianlesko/Documents/Robotics/demo-INVE-DYNM-2R/scratchwork.ipynb#W4sZmlsZQ%3D%3D?line=10'>11</a>\u001b[0m C \u001b[39m=\u001b[39m np\u001b[39m.\u001b[39;49marray([[\u001b[39m-\u001b[39;49mL1\u001b[39m*\u001b[39;49mL2\u001b[39m*\u001b[39;49m(\u001b[39m2\u001b[39;49m\u001b[39m*\u001b[39;49mth_d[\u001b[39m0\u001b[39;49m]\u001b[39m*\u001b[39;49mth_d[\u001b[39m1\u001b[39;49m] \u001b[39m+\u001b[39;49m th_d[\u001b[39m1\u001b[39;49m]\u001b[39m*\u001b[39;49m\u001b[39m*\u001b[39;49m\u001b[39m2\u001b[39;49m)\u001b[39m*\u001b[39;49mnp\u001b[39m.\u001b[39;49msin(th[\u001b[39m1\u001b[39;49m]), \u001b[39m-\u001b[39;49mL1\u001b[39m*\u001b[39;49mL2\u001b[39m*\u001b[39;49mth_d[\u001b[39m0\u001b[39;49m]\u001b[39m*\u001b[39;49mnp\u001b[39m.\u001b[39;49msin(th[\u001b[39m1\u001b[39;49m])], [L1\u001b[39m*\u001b[39;49mL2\u001b[39m*\u001b[39;49mth_d[\u001b[39m0\u001b[39;49m]\u001b[39m*\u001b[39;49mnp\u001b[39m.\u001b[39;49msin(th[\u001b[39m1\u001b[39;49m]), \u001b[39m0\u001b[39;49m]])\n\u001b[1;32m     <a href='vscode-notebook-cell:/Users/brianlesko/Documents/Robotics/demo-INVE-DYNM-2R/scratchwork.ipynb#W4sZmlsZQ%3D%3D?line=12'>13</a>\u001b[0m \u001b[39m# The gravity matrix\u001b[39;00m\n\u001b[1;32m     <a href='vscode-notebook-cell:/Users/brianlesko/Documents/Robotics/demo-INVE-DYNM-2R/scratchwork.ipynb#W4sZmlsZQ%3D%3D?line=13'>14</a>\u001b[0m G \u001b[39m=\u001b[39m np\u001b[39m.\u001b[39marray([[\u001b[39m-\u001b[39m(L1 \u001b[39m+\u001b[39m L2)\u001b[39m*\u001b[39mnp\u001b[39m.\u001b[39msin(th[\u001b[39m0\u001b[39m]) \u001b[39m-\u001b[39m L2\u001b[39m*\u001b[39mnp\u001b[39m.\u001b[39msin(th[\u001b[39m0\u001b[39m] \u001b[39m+\u001b[39m th[\u001b[39m1\u001b[39m])], [\u001b[39m-\u001b[39mL2\u001b[39m*\u001b[39mnp\u001b[39m.\u001b[39msin(th[\u001b[39m0\u001b[39m] \u001b[39m+\u001b[39m th[\u001b[39m1\u001b[39m])]])\n",
      "\u001b[0;31mValueError\u001b[0m: setting an array element with a sequence. The requested array has an inhomogeneous shape after 2 dimensions. The detected shape was (2, 2) + inhomogeneous part."
     ]
    }
   ],
   "source": [
    "def run(Jeval,th_init,th_d_init,T,lr=.01,n_iter=1000):\n",
    "\n",
    "    # Initialize the joint parameters\n",
    "    th = th_init\n",
    "    th_d = th_d_init\n",
    "\n",
    "    # Create history dictionary\n",
    "    hist = {'th': [], 'th_d': [], 'th_dd': []}\n",
    "\n",
    "    # Loop over iterations\n",
    "    for i in range(n_iter):\n",
    "\n",
    "        # Evaluate the equations of motion\n",
    "        M, C, G = Jeval(th,th_d)\n",
    "\n",
    "        # Solve for th_dd using the equations of motion\n",
    "        th_dd = (T - C - G) / M\n",
    "\n",
    "        print('The shape of th_dd is: ', th_dd.shape)\n",
    "\n",
    "        # Save the history\n",
    "        hist['th'].append(th)\n",
    "        hist['th_d'].append(th_d)\n",
    "        hist['th_dd'].append(th_dd)\n",
    "\n",
    "        # Update the joint parameters\n",
    "        th = th + lr * th_d\n",
    "        th_d = th_d + lr * th_dd\n",
    "\n",
    "    return hist\n",
    "\n",
    "\n",
    "run(mcgeval,th,th_d,T,lr=.01,n_iter=1000)"
   ]
  }
 ],
 "metadata": {
  "kernelspec": {
   "display_name": "2R_Env",
   "language": "python",
   "name": "python3"
  },
  "language_info": {
   "codemirror_mode": {
    "name": "ipython",
    "version": 3
   },
   "file_extension": ".py",
   "mimetype": "text/x-python",
   "name": "python",
   "nbconvert_exporter": "python",
   "pygments_lexer": "ipython3",
   "version": "3.10.10"
  },
  "orig_nbformat": 4
 },
 "nbformat": 4,
 "nbformat_minor": 2
}
